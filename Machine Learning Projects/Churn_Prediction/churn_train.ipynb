{
 "cells": [
  {
   "cell_type": "code",
   "execution_count": 46,
   "id": "c7ca7184",
   "metadata": {},
   "outputs": [],
   "source": [
    "import pandas as pd\n",
    "import numpy as np\n",
    "import random\n",
    "import seaborn as sn\n",
    "import matplotlib.pyplot as plt\n",
    "from sklearn.preprocessing import StandardScaler\n",
    "from sklearn.model_selection import train_test_split\n",
    "from sklearn.linear_model import LogisticRegression\n",
    "from sklearn.metrics import confusion_matrix, accuracy_score, f1_score, precision_score, recall_score\n",
    "from sklearn.model_selection import cross_val_score\n",
    "from sklearn.feature_selection import RFE\n",
    "from sklearn.linear_model import LogisticRegression\n",
    "import warnings\n"
   ]
  },
  {
   "cell_type": "code",
   "execution_count": 28,
   "id": "d4d3e610",
   "metadata": {},
   "outputs": [],
   "source": [
    "data = pd.read_csv('new_churn_data.csv')"
   ]
  },
  {
   "cell_type": "code",
   "execution_count": 29,
   "id": "c9b9a2d7",
   "metadata": {},
   "outputs": [],
   "source": [
    "data = data.dropna()"
   ]
  },
  {
   "cell_type": "code",
   "execution_count": 30,
   "id": "847b4cfb",
   "metadata": {},
   "outputs": [],
   "source": [
    "user_identifier = dataset['user']\n",
    "data = data.drop(columns = ['user'])"
   ]
  },
  {
   "cell_type": "code",
   "execution_count": 31,
   "id": "50e0ac9a",
   "metadata": {},
   "outputs": [
    {
     "data": {
      "text/plain": [
       "na    13856\n",
       "R     10969\n",
       "O      2171\n",
       "Name: housing, dtype: int64"
      ]
     },
     "execution_count": 31,
     "metadata": {},
     "output_type": "execute_result"
    }
   ],
   "source": [
    "data.housing.value_counts()"
   ]
  },
  {
   "cell_type": "code",
   "execution_count": 32,
   "id": "031ffe6d",
   "metadata": {},
   "outputs": [
    {
     "data": {
      "text/html": [
       "<div>\n",
       "<style scoped>\n",
       "    .dataframe tbody tr th:only-of-type {\n",
       "        vertical-align: middle;\n",
       "    }\n",
       "\n",
       "    .dataframe tbody tr th {\n",
       "        vertical-align: top;\n",
       "    }\n",
       "\n",
       "    .dataframe thead th {\n",
       "        text-align: right;\n",
       "    }\n",
       "</style>\n",
       "<table border=\"1\" class=\"dataframe\">\n",
       "  <thead>\n",
       "    <tr style=\"text-align: right;\">\n",
       "      <th></th>\n",
       "      <th>housing</th>\n",
       "      <th>churn</th>\n",
       "    </tr>\n",
       "  </thead>\n",
       "  <tbody>\n",
       "    <tr>\n",
       "      <th>0</th>\n",
       "      <td>O</td>\n",
       "      <td>2</td>\n",
       "    </tr>\n",
       "    <tr>\n",
       "      <th>1</th>\n",
       "      <td>R</td>\n",
       "      <td>2</td>\n",
       "    </tr>\n",
       "    <tr>\n",
       "      <th>2</th>\n",
       "      <td>na</td>\n",
       "      <td>2</td>\n",
       "    </tr>\n",
       "  </tbody>\n",
       "</table>\n",
       "</div>"
      ],
      "text/plain": [
       "  housing  churn\n",
       "0       O      2\n",
       "1       R      2\n",
       "2      na      2"
      ]
     },
     "execution_count": 32,
     "metadata": {},
     "output_type": "execute_result"
    }
   ],
   "source": [
    "data.groupby('housing')['churn'].nunique().reset_index()"
   ]
  },
  {
   "cell_type": "code",
   "execution_count": 33,
   "id": "0d11f87e",
   "metadata": {},
   "outputs": [
    {
     "data": {
      "text/plain": [
       "Index(['churn', 'age', 'deposits', 'withdrawal', 'purchases_partners',\n",
       "       'purchases', 'cc_taken', 'cc_recommended', 'cc_disliked', 'cc_liked',\n",
       "       'cc_application_begin', 'app_downloaded', 'web_user', 'ios_user',\n",
       "       'android_user', 'registered_phones', 'waiting_4_loan', 'cancelled_loan',\n",
       "       'received_loan', 'rejected_loan', 'left_for_two_month_plus',\n",
       "       'left_for_one_month', 'rewards_earned', 'reward_rate', 'is_referred',\n",
       "       'housing_O', 'housing_R', 'housing_na', 'payment_type_Bi-Weekly',\n",
       "       'payment_type_Monthly', 'payment_type_Semi-Monthly',\n",
       "       'payment_type_Weekly', 'payment_type_na', 'zodiac_sign_Aquarius',\n",
       "       'zodiac_sign_Aries', 'zodiac_sign_Cancer', 'zodiac_sign_Capricorn',\n",
       "       'zodiac_sign_Gemini', 'zodiac_sign_Leo', 'zodiac_sign_Libra',\n",
       "       'zodiac_sign_Pisces', 'zodiac_sign_Sagittarius', 'zodiac_sign_Scorpio',\n",
       "       'zodiac_sign_Taurus', 'zodiac_sign_Virgo', 'zodiac_sign_na'],\n",
       "      dtype='object')"
      ]
     },
     "execution_count": 33,
     "metadata": {},
     "output_type": "execute_result"
    }
   ],
   "source": [
    "data2 = pd.get_dummies(data)\n",
    "data2.columns"
   ]
  },
  {
   "cell_type": "code",
   "execution_count": 34,
   "id": "0be65879",
   "metadata": {},
   "outputs": [],
   "source": [
    "y = data2[\"churn\"]\n",
    "X = data2.drop([\"churn\"],axis=1)"
   ]
  },
  {
   "cell_type": "code",
   "execution_count": 35,
   "id": "539f742e",
   "metadata": {},
   "outputs": [
    {
     "data": {
      "text/html": [
       "<div>\n",
       "<style scoped>\n",
       "    .dataframe tbody tr th:only-of-type {\n",
       "        vertical-align: middle;\n",
       "    }\n",
       "\n",
       "    .dataframe tbody tr th {\n",
       "        vertical-align: top;\n",
       "    }\n",
       "\n",
       "    .dataframe thead th {\n",
       "        text-align: right;\n",
       "    }\n",
       "</style>\n",
       "<table border=\"1\" class=\"dataframe\">\n",
       "  <thead>\n",
       "    <tr style=\"text-align: right;\">\n",
       "      <th></th>\n",
       "      <th>age</th>\n",
       "      <th>deposits</th>\n",
       "      <th>withdrawal</th>\n",
       "      <th>purchases_partners</th>\n",
       "      <th>purchases</th>\n",
       "      <th>cc_taken</th>\n",
       "      <th>cc_recommended</th>\n",
       "      <th>cc_disliked</th>\n",
       "      <th>cc_liked</th>\n",
       "      <th>cc_application_begin</th>\n",
       "      <th>...</th>\n",
       "      <th>zodiac_sign_Capricorn</th>\n",
       "      <th>zodiac_sign_Gemini</th>\n",
       "      <th>zodiac_sign_Leo</th>\n",
       "      <th>zodiac_sign_Libra</th>\n",
       "      <th>zodiac_sign_Pisces</th>\n",
       "      <th>zodiac_sign_Sagittarius</th>\n",
       "      <th>zodiac_sign_Scorpio</th>\n",
       "      <th>zodiac_sign_Taurus</th>\n",
       "      <th>zodiac_sign_Virgo</th>\n",
       "      <th>zodiac_sign_na</th>\n",
       "    </tr>\n",
       "  </thead>\n",
       "  <tbody>\n",
       "    <tr>\n",
       "      <th>0</th>\n",
       "      <td>0.479703</td>\n",
       "      <td>-0.365978</td>\n",
       "      <td>-0.290909</td>\n",
       "      <td>-0.664762</td>\n",
       "      <td>-0.365664</td>\n",
       "      <td>-0.168728</td>\n",
       "      <td>-1.042450</td>\n",
       "      <td>-0.058109</td>\n",
       "      <td>-0.055057</td>\n",
       "      <td>-0.656054</td>\n",
       "      <td>...</td>\n",
       "      <td>-0.160990</td>\n",
       "      <td>-0.295501</td>\n",
       "      <td>3.220485</td>\n",
       "      <td>-0.292527</td>\n",
       "      <td>-0.292452</td>\n",
       "      <td>-0.28712</td>\n",
       "      <td>-0.29178</td>\n",
       "      <td>-0.300511</td>\n",
       "      <td>-0.313087</td>\n",
       "      <td>-0.294536</td>\n",
       "    </tr>\n",
       "    <tr>\n",
       "      <th>1</th>\n",
       "      <td>-0.423489</td>\n",
       "      <td>-0.365978</td>\n",
       "      <td>-0.290909</td>\n",
       "      <td>-0.641077</td>\n",
       "      <td>-0.365664</td>\n",
       "      <td>-0.168728</td>\n",
       "      <td>0.037815</td>\n",
       "      <td>-0.058109</td>\n",
       "      <td>-0.055057</td>\n",
       "      <td>-0.255976</td>\n",
       "      <td>...</td>\n",
       "      <td>-0.160990</td>\n",
       "      <td>-0.295501</td>\n",
       "      <td>3.220485</td>\n",
       "      <td>-0.292527</td>\n",
       "      <td>-0.292452</td>\n",
       "      <td>-0.28712</td>\n",
       "      <td>-0.29178</td>\n",
       "      <td>-0.300511</td>\n",
       "      <td>-0.313087</td>\n",
       "      <td>-0.294536</td>\n",
       "    </tr>\n",
       "    <tr>\n",
       "      <th>2</th>\n",
       "      <td>0.278994</td>\n",
       "      <td>4.780858</td>\n",
       "      <td>1.603984</td>\n",
       "      <td>1.372156</td>\n",
       "      <td>4.883688</td>\n",
       "      <td>-0.168728</td>\n",
       "      <td>2.164586</td>\n",
       "      <td>-0.058109</td>\n",
       "      <td>-0.055057</td>\n",
       "      <td>0.064087</td>\n",
       "      <td>...</td>\n",
       "      <td>6.211568</td>\n",
       "      <td>-0.295501</td>\n",
       "      <td>-0.310512</td>\n",
       "      <td>-0.292527</td>\n",
       "      <td>-0.292452</td>\n",
       "      <td>-0.28712</td>\n",
       "      <td>-0.29178</td>\n",
       "      <td>-0.300511</td>\n",
       "      <td>-0.313087</td>\n",
       "      <td>-0.294536</td>\n",
       "    </tr>\n",
       "    <tr>\n",
       "      <th>3</th>\n",
       "      <td>-0.624198</td>\n",
       "      <td>2.481208</td>\n",
       "      <td>2.551431</td>\n",
       "      <td>0.235272</td>\n",
       "      <td>2.426545</td>\n",
       "      <td>-0.168728</td>\n",
       "      <td>-0.209746</td>\n",
       "      <td>-0.058109</td>\n",
       "      <td>-0.055057</td>\n",
       "      <td>1.424355</td>\n",
       "      <td>...</td>\n",
       "      <td>6.211568</td>\n",
       "      <td>-0.295501</td>\n",
       "      <td>-0.310512</td>\n",
       "      <td>-0.292527</td>\n",
       "      <td>-0.292452</td>\n",
       "      <td>-0.28712</td>\n",
       "      <td>-0.29178</td>\n",
       "      <td>-0.300511</td>\n",
       "      <td>-0.313087</td>\n",
       "      <td>-0.294536</td>\n",
       "    </tr>\n",
       "    <tr>\n",
       "      <th>4</th>\n",
       "      <td>-0.523844</td>\n",
       "      <td>-0.365978</td>\n",
       "      <td>-0.290909</td>\n",
       "      <td>-0.617392</td>\n",
       "      <td>-0.365664</td>\n",
       "      <td>-0.168728</td>\n",
       "      <td>-1.042450</td>\n",
       "      <td>-0.058109</td>\n",
       "      <td>-0.055057</td>\n",
       "      <td>-0.656054</td>\n",
       "      <td>...</td>\n",
       "      <td>-0.160990</td>\n",
       "      <td>-0.295501</td>\n",
       "      <td>-0.310512</td>\n",
       "      <td>-0.292527</td>\n",
       "      <td>-0.292452</td>\n",
       "      <td>-0.28712</td>\n",
       "      <td>-0.29178</td>\n",
       "      <td>-0.300511</td>\n",
       "      <td>-0.313087</td>\n",
       "      <td>-0.294536</td>\n",
       "    </tr>\n",
       "  </tbody>\n",
       "</table>\n",
       "<p>5 rows × 45 columns</p>\n",
       "</div>"
      ],
      "text/plain": [
       "        age  deposits  withdrawal  purchases_partners  purchases  cc_taken  \\\n",
       "0  0.479703 -0.365978   -0.290909           -0.664762  -0.365664 -0.168728   \n",
       "1 -0.423489 -0.365978   -0.290909           -0.641077  -0.365664 -0.168728   \n",
       "2  0.278994  4.780858    1.603984            1.372156   4.883688 -0.168728   \n",
       "3 -0.624198  2.481208    2.551431            0.235272   2.426545 -0.168728   \n",
       "4 -0.523844 -0.365978   -0.290909           -0.617392  -0.365664 -0.168728   \n",
       "\n",
       "   cc_recommended  cc_disliked  cc_liked  cc_application_begin  ...  \\\n",
       "0       -1.042450    -0.058109 -0.055057             -0.656054  ...   \n",
       "1        0.037815    -0.058109 -0.055057             -0.255976  ...   \n",
       "2        2.164586    -0.058109 -0.055057              0.064087  ...   \n",
       "3       -0.209746    -0.058109 -0.055057              1.424355  ...   \n",
       "4       -1.042450    -0.058109 -0.055057             -0.656054  ...   \n",
       "\n",
       "   zodiac_sign_Capricorn  zodiac_sign_Gemini  zodiac_sign_Leo  \\\n",
       "0              -0.160990           -0.295501         3.220485   \n",
       "1              -0.160990           -0.295501         3.220485   \n",
       "2               6.211568           -0.295501        -0.310512   \n",
       "3               6.211568           -0.295501        -0.310512   \n",
       "4              -0.160990           -0.295501        -0.310512   \n",
       "\n",
       "   zodiac_sign_Libra  zodiac_sign_Pisces  zodiac_sign_Sagittarius  \\\n",
       "0          -0.292527           -0.292452                 -0.28712   \n",
       "1          -0.292527           -0.292452                 -0.28712   \n",
       "2          -0.292527           -0.292452                 -0.28712   \n",
       "3          -0.292527           -0.292452                 -0.28712   \n",
       "4          -0.292527           -0.292452                 -0.28712   \n",
       "\n",
       "   zodiac_sign_Scorpio  zodiac_sign_Taurus  zodiac_sign_Virgo  zodiac_sign_na  \n",
       "0             -0.29178           -0.300511          -0.313087       -0.294536  \n",
       "1             -0.29178           -0.300511          -0.313087       -0.294536  \n",
       "2             -0.29178           -0.300511          -0.313087       -0.294536  \n",
       "3             -0.29178           -0.300511          -0.313087       -0.294536  \n",
       "4             -0.29178           -0.300511          -0.313087       -0.294536  \n",
       "\n",
       "[5 rows x 45 columns]"
      ]
     },
     "execution_count": 35,
     "metadata": {},
     "output_type": "execute_result"
    }
   ],
   "source": [
    "sc_X = StandardScaler()\n",
    "X2 = pd.DataFrame(sc_X.fit_transform(X),index=X.index,columns=X.columns)\n",
    "X2.head()"
   ]
  },
  {
   "cell_type": "code",
   "execution_count": 36,
   "id": "6067a94c",
   "metadata": {},
   "outputs": [],
   "source": [
    "X_train, X_test, y_train, y_test = train_test_split(X,y,test_size = 0.2,random_state = 42)"
   ]
  },
  {
   "cell_type": "code",
   "execution_count": 37,
   "id": "49f2c8ec",
   "metadata": {},
   "outputs": [
    {
     "data": {
      "text/plain": [
       "age                          0\n",
       "deposits                     0\n",
       "withdrawal                   0\n",
       "purchases_partners           0\n",
       "purchases                    0\n",
       "cc_taken                     0\n",
       "cc_recommended               0\n",
       "cc_disliked                  0\n",
       "cc_liked                     0\n",
       "cc_application_begin         0\n",
       "app_downloaded               0\n",
       "web_user                     0\n",
       "ios_user                     0\n",
       "android_user                 0\n",
       "registered_phones            0\n",
       "waiting_4_loan               0\n",
       "cancelled_loan               0\n",
       "received_loan                0\n",
       "rejected_loan                0\n",
       "left_for_two_month_plus      0\n",
       "left_for_one_month           0\n",
       "rewards_earned               0\n",
       "reward_rate                  0\n",
       "is_referred                  0\n",
       "housing_O                    0\n",
       "housing_R                    0\n",
       "housing_na                   0\n",
       "payment_type_Bi-Weekly       0\n",
       "payment_type_Monthly         0\n",
       "payment_type_Semi-Monthly    0\n",
       "payment_type_Weekly          0\n",
       "payment_type_na              0\n",
       "zodiac_sign_Aquarius         0\n",
       "zodiac_sign_Aries            0\n",
       "zodiac_sign_Cancer           0\n",
       "zodiac_sign_Capricorn        0\n",
       "zodiac_sign_Gemini           0\n",
       "zodiac_sign_Leo              0\n",
       "zodiac_sign_Libra            0\n",
       "zodiac_sign_Pisces           0\n",
       "zodiac_sign_Sagittarius      0\n",
       "zodiac_sign_Scorpio          0\n",
       "zodiac_sign_Taurus           0\n",
       "zodiac_sign_Virgo            0\n",
       "zodiac_sign_na               0\n",
       "dtype: int64"
      ]
     },
     "execution_count": 37,
     "metadata": {},
     "output_type": "execute_result"
    }
   ],
   "source": [
    "X_train.isna().sum()"
   ]
  },
  {
   "cell_type": "code",
   "execution_count": 38,
   "id": "beb1451f",
   "metadata": {},
   "outputs": [
    {
     "name": "stderr",
     "output_type": "stream",
     "text": [
      "D:\\Users\\SAleem\\AppData\\Roaming\\Python\\Python37\\site-packages\\sklearn\\linear_model\\_logistic.py:818: ConvergenceWarning: lbfgs failed to converge (status=1):\n",
      "STOP: TOTAL NO. of ITERATIONS REACHED LIMIT.\n",
      "\n",
      "Increase the number of iterations (max_iter) or scale the data as shown in:\n",
      "    https://scikit-learn.org/stable/modules/preprocessing.html\n",
      "Please also refer to the documentation for alternative solver options:\n",
      "    https://scikit-learn.org/stable/modules/linear_model.html#logistic-regression\n",
      "  extra_warning_msg=_LOGISTIC_SOLVER_CONVERGENCE_MSG,\n"
     ]
    },
    {
     "data": {
      "text/plain": [
       "LogisticRegression(random_state=0)"
      ]
     },
     "execution_count": 38,
     "metadata": {},
     "output_type": "execute_result"
    }
   ],
   "source": [
    "classifier = LogisticRegression(random_state = 0)\n",
    "classifier.fit(X_train, y_train)"
   ]
  },
  {
   "cell_type": "code",
   "execution_count": 39,
   "id": "2fd58bd2",
   "metadata": {},
   "outputs": [],
   "source": [
    "y_pred = classifier.predict(X_test)"
   ]
  },
  {
   "cell_type": "code",
   "execution_count": 41,
   "id": "77dbf7cd",
   "metadata": {},
   "outputs": [
    {
     "name": "stdout",
     "output_type": "stream",
     "text": [
      "Test Data Accuracy: 0.6407\n"
     ]
    },
    {
     "data": {
      "image/png": "[encoded data removed]",
      "text/plain": [
       "<Figure size 720x504 with 2 Axes>"
      ]
     },
     "metadata": {
      "needs_background": "light"
     },
     "output_type": "display_data"
    }
   ],
   "source": [
    "cm = confusion_matrix(y_test, y_pred)\n",
    "accuracy_score(y_test, y_pred)\n",
    "precision_score(y_test, y_pred) # tp / (tp + fp)\n",
    "recall_score(y_test, y_pred) # tp / (tp + fn)\n",
    "f1_score(y_test, y_pred)\n",
    "\n",
    "df_cm = pd.DataFrame(cm, index = (0, 1), columns = (0, 1))\n",
    "plt.figure(figsize = (10,7))\n",
    "sn.set(font_scale=1.4)\n",
    "sn.heatmap(df_cm, annot=True, fmt='g')\n",
    "print(\"Test Data Accuracy: %0.4f\" % accuracy_score(y_test, y_pred))"
   ]
  },
  {
   "cell_type": "code",
   "execution_count": 42,
   "id": "0618e581",
   "metadata": {},
   "outputs": [
    {
     "name": "stderr",
     "output_type": "stream",
     "text": [
      "D:\\Users\\SAleem\\AppData\\Roaming\\Python\\Python37\\site-packages\\sklearn\\linear_model\\_logistic.py:818: ConvergenceWarning: lbfgs failed to converge (status=1):\n",
      "STOP: TOTAL NO. of ITERATIONS REACHED LIMIT.\n",
      "\n",
      "Increase the number of iterations (max_iter) or scale the data as shown in:\n",
      "    https://scikit-learn.org/stable/modules/preprocessing.html\n",
      "Please also refer to the documentation for alternative solver options:\n",
      "    https://scikit-learn.org/stable/modules/linear_model.html#logistic-regression\n",
      "  extra_warning_msg=_LOGISTIC_SOLVER_CONVERGENCE_MSG,\n",
      "D:\\Users\\SAleem\\AppData\\Roaming\\Python\\Python37\\site-packages\\sklearn\\linear_model\\_logistic.py:818: ConvergenceWarning: lbfgs failed to converge (status=1):\n",
      "STOP: TOTAL NO. of ITERATIONS REACHED LIMIT.\n",
      "\n",
      "Increase the number of iterations (max_iter) or scale the data as shown in:\n",
      "    https://scikit-learn.org/stable/modules/preprocessing.html\n",
      "Please also refer to the documentation for alternative solver options:\n",
      "    https://scikit-learn.org/stable/modules/linear_model.html#logistic-regression\n",
      "  extra_warning_msg=_LOGISTIC_SOLVER_CONVERGENCE_MSG,\n",
      "D:\\Users\\SAleem\\AppData\\Roaming\\Python\\Python37\\site-packages\\sklearn\\linear_model\\_logistic.py:818: ConvergenceWarning: lbfgs failed to converge (status=1):\n",
      "STOP: TOTAL NO. of ITERATIONS REACHED LIMIT.\n",
      "\n",
      "Increase the number of iterations (max_iter) or scale the data as shown in:\n",
      "    https://scikit-learn.org/stable/modules/preprocessing.html\n",
      "Please also refer to the documentation for alternative solver options:\n",
      "    https://scikit-learn.org/stable/modules/linear_model.html#logistic-regression\n",
      "  extra_warning_msg=_LOGISTIC_SOLVER_CONVERGENCE_MSG,\n",
      "D:\\Users\\SAleem\\AppData\\Roaming\\Python\\Python37\\site-packages\\sklearn\\linear_model\\_logistic.py:818: ConvergenceWarning: lbfgs failed to converge (status=1):\n",
      "STOP: TOTAL NO. of ITERATIONS REACHED LIMIT.\n",
      "\n",
      "Increase the number of iterations (max_iter) or scale the data as shown in:\n",
      "    https://scikit-learn.org/stable/modules/preprocessing.html\n",
      "Please also refer to the documentation for alternative solver options:\n",
      "    https://scikit-learn.org/stable/modules/linear_model.html#logistic-regression\n",
      "  extra_warning_msg=_LOGISTIC_SOLVER_CONVERGENCE_MSG,\n",
      "D:\\Users\\SAleem\\AppData\\Roaming\\Python\\Python37\\site-packages\\sklearn\\linear_model\\_logistic.py:818: ConvergenceWarning: lbfgs failed to converge (status=1):\n",
      "STOP: TOTAL NO. of ITERATIONS REACHED LIMIT.\n",
      "\n",
      "Increase the number of iterations (max_iter) or scale the data as shown in:\n",
      "    https://scikit-learn.org/stable/modules/preprocessing.html\n",
      "Please also refer to the documentation for alternative solver options:\n",
      "    https://scikit-learn.org/stable/modules/linear_model.html#logistic-regression\n",
      "  extra_warning_msg=_LOGISTIC_SOLVER_CONVERGENCE_MSG,\n",
      "D:\\Users\\SAleem\\AppData\\Roaming\\Python\\Python37\\site-packages\\sklearn\\linear_model\\_logistic.py:818: ConvergenceWarning: lbfgs failed to converge (status=1):\n",
      "STOP: TOTAL NO. of ITERATIONS REACHED LIMIT.\n",
      "\n",
      "Increase the number of iterations (max_iter) or scale the data as shown in:\n",
      "    https://scikit-learn.org/stable/modules/preprocessing.html\n",
      "Please also refer to the documentation for alternative solver options:\n",
      "    https://scikit-learn.org/stable/modules/linear_model.html#logistic-regression\n",
      "  extra_warning_msg=_LOGISTIC_SOLVER_CONVERGENCE_MSG,\n",
      "D:\\Users\\SAleem\\AppData\\Roaming\\Python\\Python37\\site-packages\\sklearn\\linear_model\\_logistic.py:818: ConvergenceWarning: lbfgs failed to converge (status=1):\n",
      "STOP: TOTAL NO. of ITERATIONS REACHED LIMIT.\n",
      "\n",
      "Increase the number of iterations (max_iter) or scale the data as shown in:\n",
      "    https://scikit-learn.org/stable/modules/preprocessing.html\n",
      "Please also refer to the documentation for alternative solver options:\n",
      "    https://scikit-learn.org/stable/modules/linear_model.html#logistic-regression\n",
      "  extra_warning_msg=_LOGISTIC_SOLVER_CONVERGENCE_MSG,\n",
      "D:\\Users\\SAleem\\AppData\\Roaming\\Python\\Python37\\site-packages\\sklearn\\linear_model\\_logistic.py:818: ConvergenceWarning: lbfgs failed to converge (status=1):\n",
      "STOP: TOTAL NO. of ITERATIONS REACHED LIMIT.\n",
      "\n",
      "Increase the number of iterations (max_iter) or scale the data as shown in:\n",
      "    https://scikit-learn.org/stable/modules/preprocessing.html\n",
      "Please also refer to the documentation for alternative solver options:\n",
      "    https://scikit-learn.org/stable/modules/linear_model.html#logistic-regression\n",
      "  extra_warning_msg=_LOGISTIC_SOLVER_CONVERGENCE_MSG,\n",
      "D:\\Users\\SAleem\\AppData\\Roaming\\Python\\Python37\\site-packages\\sklearn\\linear_model\\_logistic.py:818: ConvergenceWarning: lbfgs failed to converge (status=1):\n",
      "STOP: TOTAL NO. of ITERATIONS REACHED LIMIT.\n",
      "\n",
      "Increase the number of iterations (max_iter) or scale the data as shown in:\n",
      "    https://scikit-learn.org/stable/modules/preprocessing.html\n",
      "Please also refer to the documentation for alternative solver options:\n",
      "    https://scikit-learn.org/stable/modules/linear_model.html#logistic-regression\n",
      "  extra_warning_msg=_LOGISTIC_SOLVER_CONVERGENCE_MSG,\n",
      "D:\\Users\\SAleem\\AppData\\Roaming\\Python\\Python37\\site-packages\\sklearn\\linear_model\\_logistic.py:818: ConvergenceWarning: lbfgs failed to converge (status=1):\n",
      "STOP: TOTAL NO. of ITERATIONS REACHED LIMIT.\n",
      "\n",
      "Increase the number of iterations (max_iter) or scale the data as shown in:\n",
      "    https://scikit-learn.org/stable/modules/preprocessing.html\n",
      "Please also refer to the documentation for alternative solver options:\n",
      "    https://scikit-learn.org/stable/modules/linear_model.html#logistic-regression\n",
      "  extra_warning_msg=_LOGISTIC_SOLVER_CONVERGENCE_MSG,\n"
     ]
    }
   ],
   "source": [
    "accuracies = cross_val_score(estimator = classifier, X = X_train, y = y_train, cv = 10)"
   ]
  },
  {
   "cell_type": "code",
   "execution_count": 53,
   "id": "eb7025de",
   "metadata": {},
   "outputs": [],
   "source": [
    "from sklearn.linear_model import LogisticRegression\n",
    "cl = LogisticRegression()"
   ]
  },
  {
   "cell_type": "code",
   "execution_count": 54,
   "id": "d347c2e3",
   "metadata": {},
   "outputs": [
    {
     "ename": "TypeError",
     "evalue": "__init__() takes 2 positional arguments but 3 were given",
     "output_type": "error",
     "traceback": [
      "\u001b[1;31m---------------------------------------------------------------------------\u001b[0m",
      "\u001b[1;31mTypeError\u001b[0m                                 Traceback (most recent call last)",
      "\u001b[1;32m<ipython-input-54-c1a505036b4a>\u001b[0m in \u001b[0;36m<module>\u001b[1;34m\u001b[0m\n\u001b[1;32m----> 1\u001b[1;33m \u001b[0mrfe\u001b[0m \u001b[1;33m=\u001b[0m \u001b[0mRFE\u001b[0m\u001b[1;33m(\u001b[0m\u001b[0mcl\u001b[0m\u001b[1;33m,\u001b[0m \u001b[1;36m20\u001b[0m\u001b[1;33m)\u001b[0m\u001b[1;33m\u001b[0m\u001b[1;33m\u001b[0m\u001b[0m\n\u001b[0m\u001b[0;32m      2\u001b[0m \u001b[0mrfe\u001b[0m \u001b[1;33m=\u001b[0m \u001b[0mrfe\u001b[0m\u001b[1;33m.\u001b[0m\u001b[0mfit\u001b[0m\u001b[1;33m(\u001b[0m\u001b[0mX_train\u001b[0m\u001b[1;33m,\u001b[0m \u001b[0my_train\u001b[0m\u001b[1;33m)\u001b[0m\u001b[1;33m\u001b[0m\u001b[1;33m\u001b[0m\u001b[0m\n",
      "\u001b[1;31mTypeError\u001b[0m: __init__() takes 2 positional arguments but 3 were given"
     ]
    }
   ],
   "source": [
    "rfe = RFE(cl, 20)\n",
    "rfe = rfe.fit(X_train, y_train)"
   ]
  },
  {
   "cell_type": "code",
   "execution_count": null,
   "id": "74472be0",
   "metadata": {},
   "outputs": [],
   "source": []
  }
 ],
 "metadata": {
  "kernelspec": {
   "display_name": "Python 3",
   "language": "python",
   "name": "python3"
  },
  "language_info": {
   "codemirror_mode": {
    "name": "ipython",
    "version": 3
   },
   "file_extension": ".py",
   "mimetype": "text/x-python",
   "name": "python",
   "nbconvert_exporter": "python",
   "pygments_lexer": "ipython3",
   "version": "3.7.6"
  }
 },
 "nbformat": 4,
 "nbformat_minor": 5
}
