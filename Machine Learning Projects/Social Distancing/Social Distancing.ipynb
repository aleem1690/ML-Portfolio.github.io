{
 "cells": [
  {
   "cell_type": "code",
   "execution_count": 1,
   "id": "41247300",
   "metadata": {},
   "outputs": [],
   "source": [
    "import numpy as np\n",
    "import cv2\n",
    "import sys\n",
    "from random import randint\n",
    "import csv\n",
    "import pandas as pd\n",
    "import matplotlib.pyplot as plt"
   ]
  },
  {
   "cell_type": "code",
   "execution_count": 2,
   "id": "2a0722e7",
   "metadata": {},
   "outputs": [],
   "source": [
    "video_source = 'Pedestrians_2.mp4'"
   ]
  },
  {
   "cell_type": "code",
   "execution_count": 3,
   "id": "1d242431",
   "metadata": {},
   "outputs": [],
   "source": [
    "text_color = (randint(0,255),randint(0,255),randint(0,255))\n",
    "border_color = (randint(0,255),randint(0,255),randint(0,255))\n",
    "bgs_types = ['MOG','MOG2','GNG','KNN','CNT']\n",
    "bg = bgs_types[0]"
   ]
  },
  {
   "cell_type": "code",
   "execution_count": 4,
   "id": "6f30d2c4",
   "metadata": {},
   "outputs": [],
   "source": [
    "def get_kernel(kernel_type):\n",
    "    \n",
    "    if kernel_type == 'dilation':\n",
    "        kernel = cv2.getStructuringElement(cv2.MORPH_ELLIPSE,(3,3))\n",
    "    if kernel_type =='opening':\n",
    "        kernel = np.ones((3,3),np.uint8)\n",
    "    if kernel_type =='closing':\n",
    "        kernel = np.ones((3,3),np.uint8)\n",
    "    return kernel"
   ]
  },
  {
   "cell_type": "code",
   "execution_count": 5,
   "id": "be025fc8",
   "metadata": {},
   "outputs": [],
   "source": [
    "def get_filters(img,img_filter):\n",
    "    if img_filter == 'closing':\n",
    "        return cv2.morphologyEx(img,cv2.MORPH_CLOSE,get_kernel('closing'),iterations=2)\n",
    "    if img_filter == 'opening':\n",
    "        return cv2.morphologyEx(img,cv2.MORPH_OPEN,get_kernel('opening'),iterations=2)\n",
    "    if img_filter == 'dilation':\n",
    "        return cv2.dilate(img,get_kernel('dilation'),iterations=2)\n",
    "    if img_filter == 'combine':\n",
    "        closing = cv2.morphologyEx(img,cv2.MORPH_CLOSE,get_kernel('closing'),iterations=2)\n",
    "        opening = cv2.morphologyEx(closing,cv2.MORPH_OPEN,get_kernel('opening'),iterations=2)\n",
    "        dilation = cv2.dilate(img,get_kernel('dilation'),iterations=2)\n",
    "        return dilation"
   ]
  },
  {
   "cell_type": "code",
   "execution_count": 6,
   "id": "9a64df60",
   "metadata": {},
   "outputs": [],
   "source": [
    "def get_bgsubtractor(bgs_type):\n",
    "    if bgs_type =='GMG':\n",
    "        return cv2.bgsegm.createBackgroundSubtractorGMG()\n",
    "    if bgs_type =='MOG':\n",
    "        return cv2.bgsegm.createBackgroundSubtractorMOG()        \n",
    "    if bgs_type =='MOG2':\n",
    "        return cv2.createBackgroundSubtractorMOG2(varThreshold = 100,detectShadows = False)\n",
    "    if bgs_type =='KNN':\n",
    "        return cv2.createBackgroundSubtractorKNN()        \n",
    "    if bgs_type =='CNT':\n",
    "        return cv2.bgsegm.createBackgroundSubtractorCNT()\n",
    "    print('Invalid Detetctor')\n",
    "    sys.exit(0)\n",
    "        \n"
   ]
  },
  {
   "cell_type": "code",
   "execution_count": 60,
   "id": "7007892d",
   "metadata": {},
   "outputs": [],
   "source": [
    "cap = cv2.VideoCapture(video_source)\n",
    "bg_subtractor = get_bgsubtractor(bg)\n",
    "minArea = 400\n",
    "maxArea = 3000"
   ]
  },
  {
   "cell_type": "code",
   "execution_count": 61,
   "id": "59fbd10f",
   "metadata": {},
   "outputs": [],
   "source": [
    "def main():\n",
    "    while cap.isOpened():\n",
    "        ok,frame = cap.read()\n",
    "        \n",
    "        if not ok:\n",
    "            print('video is ended')\n",
    "            break\n",
    "        \n",
    "        frame = cv2.resize(frame,(0,0), fx=0.5, fy=0.5)\n",
    "        bg_mask = bg_subtractor.apply(frame)\n",
    "        bg_mask = get_filters(bg_mask,'combine')\n",
    "        bg_mask = cv2.medianBlur(bg_mask,5)\n",
    "        \n",
    "        contours,hierarchy = cv2.findContours(bg_mask,cv2.RETR_EXTERNAL,cv2.CHAIN_APPROX_SIMPLE)\n",
    "        \n",
    "        for cnt in contours:\n",
    "            area = cv2.contourArea(cnt)\n",
    "            if area >= minArea:\n",
    "                x,y,w,h = cv2.boundingRect(cnt)\n",
    "                cv2.drawContours(frame,cnt,1,(255,0,0),10)\n",
    "                \n",
    "                if area >= maxArea:\n",
    "                    cv2.rectangle(frame,(x,y),(x+120,y-13),(49,49,49),-1)\n",
    "                    cv2.putText(frame,'Warning',(x,y-2),cv2.FONT_HERSHEY_COMPLEX,0.4,(255,255,255),1,cv2.LINE_AA)\n",
    "                    cv2.drawContours(frame,[cnt],-1,(0,0,255),2)\n",
    "        \n",
    "        cv2.imshow('original',frame)\n",
    "        cv2.imshow('bg_mask', bg_mask)\n",
    "        k = cv2.waitKey(1) and 0xff\n",
    "        if k==(27):\n",
    "            print('done')\n",
    "            break"
   ]
  },
  {
   "cell_type": "code",
   "execution_count": 62,
   "id": "0e98de21",
   "metadata": {},
   "outputs": [
    {
     "name": "stdout",
     "output_type": "stream",
     "text": [
      "video is ended\n"
     ]
    }
   ],
   "source": [
    "main()"
   ]
  },
  {
   "cell_type": "code",
   "execution_count": null,
   "id": "1be6db97",
   "metadata": {},
   "outputs": [],
   "source": []
  }
 ],
 "metadata": {
  "kernelspec": {
   "display_name": "Python 3",
   "language": "python",
   "name": "python3"
  },
  "language_info": {
   "codemirror_mode": {
    "name": "ipython",
    "version": 3
   },
   "file_extension": ".py",
   "mimetype": "text/x-python",
   "name": "python",
   "nbconvert_exporter": "python",
   "pygments_lexer": "ipython3",
   "version": "3.7.6"
  }
 },
 "nbformat": 4,
 "nbformat_minor": 5
}
