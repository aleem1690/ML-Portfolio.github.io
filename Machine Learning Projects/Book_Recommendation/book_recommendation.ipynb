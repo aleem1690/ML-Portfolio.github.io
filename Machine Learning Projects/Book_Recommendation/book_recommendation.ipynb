{
 "cells": [
  {
   "cell_type": "code",
   "execution_count": 1,
   "id": "fba080fa",
   "metadata": {},
   "outputs": [],
   "source": [
    "import pandas as pd\n",
    "from sklearn.feature_extraction.text import CountVectorizer\n",
    "from sklearn.metrics.pairwise import cosine_similarity\n"
   ]
  },
  {
   "cell_type": "code",
   "execution_count": 2,
   "id": "13809771",
   "metadata": {},
   "outputs": [
    {
     "name": "stderr",
     "output_type": "stream",
     "text": [
      "D:\\Users\\SAleem\\Anaconda3\\lib\\site-packages\\IPython\\core\\interactiveshell.py:3331: FutureWarning: The error_bad_lines argument has been deprecated and will be removed in a future version.\n",
      "\n",
      "\n",
      "  exec(code_obj, self.user_global_ns, self.user_ns)\n",
      "b'Skipping line 6452: expected 8 fields, saw 9\\nSkipping line 43667: expected 8 fields, saw 10\\nSkipping line 51751: expected 8 fields, saw 9\\n'\n",
      "b'Skipping line 92038: expected 8 fields, saw 9\\nSkipping line 104319: expected 8 fields, saw 9\\nSkipping line 121768: expected 8 fields, saw 9\\n'\n",
      "b'Skipping line 144058: expected 8 fields, saw 9\\nSkipping line 150789: expected 8 fields, saw 9\\nSkipping line 157128: expected 8 fields, saw 9\\nSkipping line 180189: expected 8 fields, saw 9\\nSkipping line 185738: expected 8 fields, saw 9\\n'\n",
      "b'Skipping line 209388: expected 8 fields, saw 9\\nSkipping line 220626: expected 8 fields, saw 9\\nSkipping line 227933: expected 8 fields, saw 11\\nSkipping line 228957: expected 8 fields, saw 10\\nSkipping line 245933: expected 8 fields, saw 9\\nSkipping line 251296: expected 8 fields, saw 9\\nSkipping line 259941: expected 8 fields, saw 9\\nSkipping line 261529: expected 8 fields, saw 9\\n'\n",
      "D:\\Users\\SAleem\\Anaconda3\\lib\\site-packages\\IPython\\core\\interactiveshell.py:3331: DtypeWarning: Columns (3) have mixed types.Specify dtype option on import or set low_memory=False.\n",
      "  exec(code_obj, self.user_global_ns, self.user_ns)\n"
     ]
    }
   ],
   "source": [
    "data = pd.read_csv('BX-CSV-Dump\\\\BX-Books.csv',sep=';',encoding='latin-1',error_bad_lines=False)"
   ]
  },
  {
   "cell_type": "code",
   "execution_count": 3,
   "id": "e2979a57",
   "metadata": {},
   "outputs": [
    {
     "data": {
      "text/html": [
       "<div>\n",
       "<style scoped>\n",
       "    .dataframe tbody tr th:only-of-type {\n",
       "        vertical-align: middle;\n",
       "    }\n",
       "\n",
       "    .dataframe tbody tr th {\n",
       "        vertical-align: top;\n",
       "    }\n",
       "\n",
       "    .dataframe thead th {\n",
       "        text-align: right;\n",
       "    }\n",
       "</style>\n",
       "<table border=\"1\" class=\"dataframe\">\n",
       "  <thead>\n",
       "    <tr style=\"text-align: right;\">\n",
       "      <th></th>\n",
       "      <th>ISBN</th>\n",
       "      <th>Book-Title</th>\n",
       "      <th>Book-Author</th>\n",
       "      <th>Year-Of-Publication</th>\n",
       "      <th>Publisher</th>\n",
       "      <th>Image-URL-S</th>\n",
       "      <th>Image-URL-M</th>\n",
       "      <th>Image-URL-L</th>\n",
       "    </tr>\n",
       "  </thead>\n",
       "  <tbody>\n",
       "    <tr>\n",
       "      <th>0</th>\n",
       "      <td>0195153448</td>\n",
       "      <td>Classical Mythology</td>\n",
       "      <td>Mark P. O. Morford</td>\n",
       "      <td>2002</td>\n",
       "      <td>Oxford University Press</td>\n",
       "      <td>http://images.amazon.com/images/P/0195153448.0...</td>\n",
       "      <td>http://images.amazon.com/images/P/0195153448.0...</td>\n",
       "      <td>http://images.amazon.com/images/P/0195153448.0...</td>\n",
       "    </tr>\n",
       "    <tr>\n",
       "      <th>1</th>\n",
       "      <td>0002005018</td>\n",
       "      <td>Clara Callan</td>\n",
       "      <td>Richard Bruce Wright</td>\n",
       "      <td>2001</td>\n",
       "      <td>HarperFlamingo Canada</td>\n",
       "      <td>http://images.amazon.com/images/P/0002005018.0...</td>\n",
       "      <td>http://images.amazon.com/images/P/0002005018.0...</td>\n",
       "      <td>http://images.amazon.com/images/P/0002005018.0...</td>\n",
       "    </tr>\n",
       "    <tr>\n",
       "      <th>2</th>\n",
       "      <td>0060973129</td>\n",
       "      <td>Decision in Normandy</td>\n",
       "      <td>Carlo D'Este</td>\n",
       "      <td>1991</td>\n",
       "      <td>HarperPerennial</td>\n",
       "      <td>http://images.amazon.com/images/P/0060973129.0...</td>\n",
       "      <td>http://images.amazon.com/images/P/0060973129.0...</td>\n",
       "      <td>http://images.amazon.com/images/P/0060973129.0...</td>\n",
       "    </tr>\n",
       "    <tr>\n",
       "      <th>3</th>\n",
       "      <td>0374157065</td>\n",
       "      <td>Flu: The Story of the Great Influenza Pandemic...</td>\n",
       "      <td>Gina Bari Kolata</td>\n",
       "      <td>1999</td>\n",
       "      <td>Farrar Straus Giroux</td>\n",
       "      <td>http://images.amazon.com/images/P/0374157065.0...</td>\n",
       "      <td>http://images.amazon.com/images/P/0374157065.0...</td>\n",
       "      <td>http://images.amazon.com/images/P/0374157065.0...</td>\n",
       "    </tr>\n",
       "    <tr>\n",
       "      <th>4</th>\n",
       "      <td>0393045218</td>\n",
       "      <td>The Mummies of Urumchi</td>\n",
       "      <td>E. J. W. Barber</td>\n",
       "      <td>1999</td>\n",
       "      <td>W. W. Norton &amp;amp; Company</td>\n",
       "      <td>http://images.amazon.com/images/P/0393045218.0...</td>\n",
       "      <td>http://images.amazon.com/images/P/0393045218.0...</td>\n",
       "      <td>http://images.amazon.com/images/P/0393045218.0...</td>\n",
       "    </tr>\n",
       "  </tbody>\n",
       "</table>\n",
       "</div>"
      ],
      "text/plain": [
       "         ISBN                                         Book-Title  \\\n",
       "0  0195153448                                Classical Mythology   \n",
       "1  0002005018                                       Clara Callan   \n",
       "2  0060973129                               Decision in Normandy   \n",
       "3  0374157065  Flu: The Story of the Great Influenza Pandemic...   \n",
       "4  0393045218                             The Mummies of Urumchi   \n",
       "\n",
       "            Book-Author Year-Of-Publication                   Publisher  \\\n",
       "0    Mark P. O. Morford                2002     Oxford University Press   \n",
       "1  Richard Bruce Wright                2001       HarperFlamingo Canada   \n",
       "2          Carlo D'Este                1991             HarperPerennial   \n",
       "3      Gina Bari Kolata                1999        Farrar Straus Giroux   \n",
       "4       E. J. W. Barber                1999  W. W. Norton &amp; Company   \n",
       "\n",
       "                                         Image-URL-S  \\\n",
       "0  http://images.amazon.com/images/P/0195153448.0...   \n",
       "1  http://images.amazon.com/images/P/0002005018.0...   \n",
       "2  http://images.amazon.com/images/P/0060973129.0...   \n",
       "3  http://images.amazon.com/images/P/0374157065.0...   \n",
       "4  http://images.amazon.com/images/P/0393045218.0...   \n",
       "\n",
       "                                         Image-URL-M  \\\n",
       "0  http://images.amazon.com/images/P/0195153448.0...   \n",
       "1  http://images.amazon.com/images/P/0002005018.0...   \n",
       "2  http://images.amazon.com/images/P/0060973129.0...   \n",
       "3  http://images.amazon.com/images/P/0374157065.0...   \n",
       "4  http://images.amazon.com/images/P/0393045218.0...   \n",
       "\n",
       "                                         Image-URL-L  \n",
       "0  http://images.amazon.com/images/P/0195153448.0...  \n",
       "1  http://images.amazon.com/images/P/0002005018.0...  \n",
       "2  http://images.amazon.com/images/P/0060973129.0...  \n",
       "3  http://images.amazon.com/images/P/0374157065.0...  \n",
       "4  http://images.amazon.com/images/P/0393045218.0...  "
      ]
     },
     "execution_count": 3,
     "metadata": {},
     "output_type": "execute_result"
    }
   ],
   "source": [
    "data.head()"
   ]
  },
  {
   "cell_type": "code",
   "execution_count": 4,
   "id": "8e8a798e",
   "metadata": {},
   "outputs": [
    {
     "data": {
      "text/plain": [
       "ISBN                   0\n",
       "Book-Title             0\n",
       "Book-Author            1\n",
       "Year-Of-Publication    0\n",
       "Publisher              2\n",
       "Image-URL-S            0\n",
       "Image-URL-M            0\n",
       "Image-URL-L            3\n",
       "dtype: int64"
      ]
     },
     "execution_count": 4,
     "metadata": {},
     "output_type": "execute_result"
    }
   ],
   "source": [
    "data.isna().sum()"
   ]
  },
  {
   "cell_type": "code",
   "execution_count": 5,
   "id": "f5380a11",
   "metadata": {},
   "outputs": [
    {
     "data": {
      "text/plain": [
       "(271360, 8)"
      ]
     },
     "execution_count": 5,
     "metadata": {},
     "output_type": "execute_result"
    }
   ],
   "source": [
    "data.shape"
   ]
  },
  {
   "cell_type": "code",
   "execution_count": 6,
   "id": "fa658651",
   "metadata": {},
   "outputs": [
    {
     "name": "stdout",
     "output_type": "stream",
     "text": [
      "ISBN 0\n",
      "Book-Title 29225\n",
      "Book-Author 169336\n",
      "Year-Of-Publication 271158\n",
      "Publisher 254552\n",
      "Image-URL-S 316\n",
      "Image-URL-M 316\n",
      "Image-URL-L 318\n"
     ]
    }
   ],
   "source": [
    "for i in data.columns:\n",
    "    print(i,data[i].duplicated().sum())"
   ]
  },
  {
   "cell_type": "code",
   "execution_count": 7,
   "id": "393fb3f2",
   "metadata": {},
   "outputs": [],
   "source": [
    "data.drop_duplicates(subset='Book-Title',inplace=True)\n",
    "data.dropna(inplace=True)"
   ]
  },
  {
   "cell_type": "code",
   "execution_count": 8,
   "id": "d4081f96",
   "metadata": {},
   "outputs": [
    {
     "data": {
      "text/plain": [
       "(20000, 8)"
      ]
     },
     "execution_count": 8,
     "metadata": {},
     "output_type": "execute_result"
    }
   ],
   "source": [
    "sample = 20000\n",
    "\n",
    "data2 = data.sample(n=sample,replace = False,random_state = 60)\n",
    "data2 = data2.reset_index(drop=True)\n",
    "data2.shape"
   ]
  },
  {
   "cell_type": "code",
   "execution_count": 9,
   "id": "734e93b5",
   "metadata": {},
   "outputs": [
    {
     "data": {
      "text/html": [
       "<div>\n",
       "<style scoped>\n",
       "    .dataframe tbody tr th:only-of-type {\n",
       "        vertical-align: middle;\n",
       "    }\n",
       "\n",
       "    .dataframe tbody tr th {\n",
       "        vertical-align: top;\n",
       "    }\n",
       "\n",
       "    .dataframe thead th {\n",
       "        text-align: right;\n",
       "    }\n",
       "</style>\n",
       "<table border=\"1\" class=\"dataframe\">\n",
       "  <thead>\n",
       "    <tr style=\"text-align: right;\">\n",
       "      <th></th>\n",
       "      <th>ISBN</th>\n",
       "      <th>Book-Title</th>\n",
       "      <th>Book-Author</th>\n",
       "      <th>Year-Of-Publication</th>\n",
       "      <th>Publisher</th>\n",
       "      <th>Image-URL-S</th>\n",
       "      <th>Image-URL-M</th>\n",
       "      <th>Image-URL-L</th>\n",
       "    </tr>\n",
       "  </thead>\n",
       "  <tbody>\n",
       "    <tr>\n",
       "      <th>0</th>\n",
       "      <td>0960951652</td>\n",
       "      <td>The free and Equal cookbook</td>\n",
       "      <td>Carole Kruppa</td>\n",
       "      <td>1985</td>\n",
       "      <td>Surrey Books</td>\n",
       "      <td>http://images.amazon.com/images/P/0960951652.0...</td>\n",
       "      <td>http://images.amazon.com/images/P/0960951652.0...</td>\n",
       "      <td>http://images.amazon.com/images/P/0960951652.0...</td>\n",
       "    </tr>\n",
       "  </tbody>\n",
       "</table>\n",
       "</div>"
      ],
      "text/plain": [
       "         ISBN                   Book-Title    Book-Author Year-Of-Publication  \\\n",
       "0  0960951652  The free and Equal cookbook  Carole Kruppa                1985   \n",
       "\n",
       "      Publisher                                        Image-URL-S  \\\n",
       "0  Surrey Books  http://images.amazon.com/images/P/0960951652.0...   \n",
       "\n",
       "                                         Image-URL-M  \\\n",
       "0  http://images.amazon.com/images/P/0960951652.0...   \n",
       "\n",
       "                                         Image-URL-L  \n",
       "0  http://images.amazon.com/images/P/0960951652.0...  "
      ]
     },
     "execution_count": 9,
     "metadata": {},
     "output_type": "execute_result"
    }
   ],
   "source": [
    "data2.head(1)"
   ]
  },
  {
   "cell_type": "code",
   "execution_count": 10,
   "id": "1ad83109",
   "metadata": {},
   "outputs": [],
   "source": [
    "for i in data2.columns:\n",
    "    data2[i] = data2[i].str.lower()"
   ]
  },
  {
   "cell_type": "code",
   "execution_count": 11,
   "id": "43c9dbae",
   "metadata": {},
   "outputs": [],
   "source": [
    "data2['Book-Author'] = data2['Book-Author'].str.replace(' ','')"
   ]
  },
  {
   "cell_type": "code",
   "execution_count": 12,
   "id": "445afac8",
   "metadata": {},
   "outputs": [
    {
     "data": {
      "text/plain": [
       "Index(['ISBN', 'Book-Title', 'Book-Author', 'Year-Of-Publication', 'Publisher',\n",
       "       'Image-URL-S', 'Image-URL-M', 'Image-URL-L'],\n",
       "      dtype='object')"
      ]
     },
     "execution_count": 12,
     "metadata": {},
     "output_type": "execute_result"
    }
   ],
   "source": [
    "data2.columns"
   ]
  },
  {
   "cell_type": "code",
   "execution_count": 13,
   "id": "d219e290",
   "metadata": {},
   "outputs": [
    {
     "data": {
      "text/plain": [
       "(20000, 3)"
      ]
     },
     "execution_count": 13,
     "metadata": {},
     "output_type": "execute_result"
    }
   ],
   "source": [
    "data3 = data2[['Book-Title','Book-Author','Publisher']]\n",
    "data3.shape"
   ]
  },
  {
   "cell_type": "code",
   "execution_count": 14,
   "id": "8a3225eb",
   "metadata": {},
   "outputs": [
    {
     "data": {
      "text/plain": [
       "Book-Title     0\n",
       "Book-Author    0\n",
       "Publisher      0\n",
       "dtype: int64"
      ]
     },
     "execution_count": 14,
     "metadata": {},
     "output_type": "execute_result"
    }
   ],
   "source": [
    "data3.isna().sum()"
   ]
  },
  {
   "cell_type": "code",
   "execution_count": 15,
   "id": "a06ca962",
   "metadata": {},
   "outputs": [
    {
     "name": "stderr",
     "output_type": "stream",
     "text": [
      "D:\\Users\\SAleem\\Anaconda3\\lib\\site-packages\\ipykernel_launcher.py:1: SettingWithCopyWarning: \n",
      "A value is trying to be set on a copy of a slice from a DataFrame.\n",
      "Try using .loc[row_indexer,col_indexer] = value instead\n",
      "\n",
      "See the caveats in the documentation: https://pandas.pydata.org/pandas-docs/stable/user_guide/indexing.html#returning-a-view-versus-a-copy\n",
      "  \"\"\"Entry point for launching an IPython kernel.\n"
     ]
    },
    {
     "data": {
      "text/plain": [
       "0    carolekruppa the free and equal cookbook surre...\n",
       "1    konstantinos nocturnal witchcraft: magick afte...\n",
       "2    brucetalkington disney's: winnie the pooh's - ...\n",
       "3    alisonboteler what should i bring?: great gift...\n",
       "4    williamrowan incident at roan high bluff infin...\n",
       "Name: combined_data, dtype: object"
      ]
     },
     "execution_count": 15,
     "metadata": {},
     "output_type": "execute_result"
    }
   ],
   "source": [
    "data3['combined_data'] = data3['Book-Author']+str(' ')+data3['Book-Title']+str(' ')+data3['Publisher']\n",
    "data3['combined_data'].head()"
   ]
  },
  {
   "cell_type": "code",
   "execution_count": 16,
   "id": "d87159b1",
   "metadata": {},
   "outputs": [],
   "source": [
    "vectorizer = CountVectorizer()\n",
    "vect_data = vectorizer.fit_transform(data3['combined_data'])"
   ]
  },
  {
   "cell_type": "code",
   "execution_count": 17,
   "id": "85554004",
   "metadata": {},
   "outputs": [
    {
     "name": "stdout",
     "output_type": "stream",
     "text": [
      "  (0, 5886)\t1\n",
      "  (0, 33738)\t1\n",
      "  (0, 12933)\t1\n",
      "  (0, 2097)\t1\n",
      "  (0, 11354)\t1\n",
      "  (0, 7711)\t1\n",
      "  (0, 32949)\t1\n",
      "  (0, 4754)\t1\n"
     ]
    }
   ],
   "source": [
    "for i in vect_data:\n",
    "    print(i)\n",
    "    break"
   ]
  },
  {
   "cell_type": "code",
   "execution_count": 18,
   "id": "133e0582",
   "metadata": {},
   "outputs": [],
   "source": [
    "similarities = cosine_similarity(vect_data)"
   ]
  },
  {
   "cell_type": "code",
   "execution_count": 19,
   "id": "2008121c",
   "metadata": {},
   "outputs": [
    {
     "data": {
      "text/plain": [
       "array([[1.        , 0.        , 0.1118034 , ..., 0.        , 0.        ,\n",
       "        0.09128709],\n",
       "       [0.        , 1.        , 0.        , ..., 0.        , 0.        ,\n",
       "        0.        ],\n",
       "       [0.1118034 , 0.        , 1.        , ..., 0.        , 0.        ,\n",
       "        0.        ],\n",
       "       ...,\n",
       "       [0.        , 0.        , 0.        , ..., 1.        , 0.        ,\n",
       "        0.        ],\n",
       "       [0.        , 0.        , 0.        , ..., 0.        , 1.        ,\n",
       "        0.        ],\n",
       "       [0.09128709, 0.        , 0.        , ..., 0.        , 0.        ,\n",
       "        1.        ]])"
      ]
     },
     "execution_count": 19,
     "metadata": {},
     "output_type": "execute_result"
    }
   ],
   "source": [
    "similarities"
   ]
  },
  {
   "cell_type": "code",
   "execution_count": 20,
   "id": "7db19edb",
   "metadata": {},
   "outputs": [
    {
     "data": {
      "text/html": [
       "<div>\n",
       "<style scoped>\n",
       "    .dataframe tbody tr th:only-of-type {\n",
       "        vertical-align: middle;\n",
       "    }\n",
       "\n",
       "    .dataframe tbody tr th {\n",
       "        vertical-align: top;\n",
       "    }\n",
       "\n",
       "    .dataframe thead th {\n",
       "        text-align: right;\n",
       "    }\n",
       "</style>\n",
       "<table border=\"1\" class=\"dataframe\">\n",
       "  <thead>\n",
       "    <tr style=\"text-align: right;\">\n",
       "      <th>Book-Title</th>\n",
       "      <th>Book-Title</th>\n",
       "      <th>the free and equal cookbook</th>\n",
       "      <th>nocturnal witchcraft: magick after dark</th>\n",
       "      <th>disney's: winnie the pooh's - halloween</th>\n",
       "      <th>what should i bring?: great gifts for every occasion</th>\n",
       "      <th>incident at roan high bluff</th>\n",
       "      <th>italy</th>\n",
       "      <th>the beginnings of rome: italy and rome from the bronze age to the punic wars (c. 1000-264 bc) (routledge history of the ancient world)</th>\n",
       "      <th>der seltene vogel.</th>\n",
       "      <th>books on the move: a read-about-it, go-there guide to america's best family destinations</th>\n",
       "      <th>...</th>\n",
       "      <th>the xenophobe's guide to the chinese (xenophobe's guide)</th>\n",
       "      <th>grover learns to read</th>\n",
       "      <th>bibliotherapy: the girl's guide to books for every phase of our lives</th>\n",
       "      <th>the count of monte cristo (modern library classics)</th>\n",
       "      <th>das kollegenschwein.</th>\n",
       "      <th>unbridled</th>\n",
       "      <th>fearful majesty: the life and reign of ivan the terrible</th>\n",
       "      <th>querschã?â¼sse - downsize this!</th>\n",
       "      <th>bigger secrets: more than 125 things they prayed you'd never find out</th>\n",
       "      <th>die letzten kinder von schewenborn (fiction, poetry and drama)</th>\n",
       "    </tr>\n",
       "  </thead>\n",
       "  <tbody>\n",
       "    <tr>\n",
       "      <th>0</th>\n",
       "      <td>the free and equal cookbook</td>\n",
       "      <td>1.000000</td>\n",
       "      <td>0.0</td>\n",
       "      <td>0.111803</td>\n",
       "      <td>0.0</td>\n",
       "      <td>0.0</td>\n",
       "      <td>0.158114</td>\n",
       "      <td>0.266501</td>\n",
       "      <td>0.0</td>\n",
       "      <td>0.243332</td>\n",
       "      <td>...</td>\n",
       "      <td>0.257248</td>\n",
       "      <td>0.117851</td>\n",
       "      <td>0.171499</td>\n",
       "      <td>0.091287</td>\n",
       "      <td>0.0</td>\n",
       "      <td>0.0</td>\n",
       "      <td>0.265165</td>\n",
       "      <td>0.0</td>\n",
       "      <td>0.0</td>\n",
       "      <td>0.091287</td>\n",
       "    </tr>\n",
       "    <tr>\n",
       "      <th>1</th>\n",
       "      <td>nocturnal witchcraft: magick after dark</td>\n",
       "      <td>0.000000</td>\n",
       "      <td>1.0</td>\n",
       "      <td>0.000000</td>\n",
       "      <td>0.0</td>\n",
       "      <td>0.0</td>\n",
       "      <td>0.000000</td>\n",
       "      <td>0.000000</td>\n",
       "      <td>0.0</td>\n",
       "      <td>0.000000</td>\n",
       "      <td>...</td>\n",
       "      <td>0.000000</td>\n",
       "      <td>0.000000</td>\n",
       "      <td>0.000000</td>\n",
       "      <td>0.000000</td>\n",
       "      <td>0.0</td>\n",
       "      <td>0.0</td>\n",
       "      <td>0.000000</td>\n",
       "      <td>0.0</td>\n",
       "      <td>0.0</td>\n",
       "      <td>0.000000</td>\n",
       "    </tr>\n",
       "    <tr>\n",
       "      <th>2</th>\n",
       "      <td>disney's: winnie the pooh's - halloween</td>\n",
       "      <td>0.111803</td>\n",
       "      <td>0.0</td>\n",
       "      <td>1.000000</td>\n",
       "      <td>0.0</td>\n",
       "      <td>0.0</td>\n",
       "      <td>0.000000</td>\n",
       "      <td>0.190693</td>\n",
       "      <td>0.0</td>\n",
       "      <td>0.072548</td>\n",
       "      <td>...</td>\n",
       "      <td>0.153393</td>\n",
       "      <td>0.000000</td>\n",
       "      <td>0.076696</td>\n",
       "      <td>0.081650</td>\n",
       "      <td>0.0</td>\n",
       "      <td>0.0</td>\n",
       "      <td>0.158114</td>\n",
       "      <td>0.0</td>\n",
       "      <td>0.0</td>\n",
       "      <td>0.000000</td>\n",
       "    </tr>\n",
       "    <tr>\n",
       "      <th>3</th>\n",
       "      <td>what should i bring?: great gifts for every oc...</td>\n",
       "      <td>0.000000</td>\n",
       "      <td>0.0</td>\n",
       "      <td>0.000000</td>\n",
       "      <td>1.0</td>\n",
       "      <td>0.0</td>\n",
       "      <td>0.000000</td>\n",
       "      <td>0.000000</td>\n",
       "      <td>0.0</td>\n",
       "      <td>0.000000</td>\n",
       "      <td>...</td>\n",
       "      <td>0.000000</td>\n",
       "      <td>0.000000</td>\n",
       "      <td>0.134535</td>\n",
       "      <td>0.000000</td>\n",
       "      <td>0.0</td>\n",
       "      <td>0.0</td>\n",
       "      <td>0.000000</td>\n",
       "      <td>0.0</td>\n",
       "      <td>0.0</td>\n",
       "      <td>0.000000</td>\n",
       "    </tr>\n",
       "    <tr>\n",
       "      <th>4</th>\n",
       "      <td>incident at roan high bluff</td>\n",
       "      <td>0.000000</td>\n",
       "      <td>0.0</td>\n",
       "      <td>0.000000</td>\n",
       "      <td>0.0</td>\n",
       "      <td>1.0</td>\n",
       "      <td>0.000000</td>\n",
       "      <td>0.000000</td>\n",
       "      <td>0.0</td>\n",
       "      <td>0.000000</td>\n",
       "      <td>...</td>\n",
       "      <td>0.000000</td>\n",
       "      <td>0.000000</td>\n",
       "      <td>0.080845</td>\n",
       "      <td>0.000000</td>\n",
       "      <td>0.0</td>\n",
       "      <td>0.0</td>\n",
       "      <td>0.000000</td>\n",
       "      <td>0.0</td>\n",
       "      <td>0.0</td>\n",
       "      <td>0.000000</td>\n",
       "    </tr>\n",
       "  </tbody>\n",
       "</table>\n",
       "<p>5 rows × 20001 columns</p>\n",
       "</div>"
      ],
      "text/plain": [
       "Book-Title                                         Book-Title  \\\n",
       "0                                 the free and equal cookbook   \n",
       "1                     nocturnal witchcraft: magick after dark   \n",
       "2                     disney's: winnie the pooh's - halloween   \n",
       "3           what should i bring?: great gifts for every oc...   \n",
       "4                                 incident at roan high bluff   \n",
       "\n",
       "Book-Title  the free and equal cookbook  \\\n",
       "0                              1.000000   \n",
       "1                              0.000000   \n",
       "2                              0.111803   \n",
       "3                              0.000000   \n",
       "4                              0.000000   \n",
       "\n",
       "Book-Title  nocturnal witchcraft: magick after dark  \\\n",
       "0                                               0.0   \n",
       "1                                               1.0   \n",
       "2                                               0.0   \n",
       "3                                               0.0   \n",
       "4                                               0.0   \n",
       "\n",
       "Book-Title  disney's: winnie the pooh's - halloween  \\\n",
       "0                                          0.111803   \n",
       "1                                          0.000000   \n",
       "2                                          1.000000   \n",
       "3                                          0.000000   \n",
       "4                                          0.000000   \n",
       "\n",
       "Book-Title  what should i bring?: great gifts for every occasion  \\\n",
       "0                                                         0.0      \n",
       "1                                                         0.0      \n",
       "2                                                         0.0      \n",
       "3                                                         1.0      \n",
       "4                                                         0.0      \n",
       "\n",
       "Book-Title  incident at roan high bluff     italy  \\\n",
       "0                                   0.0  0.158114   \n",
       "1                                   0.0  0.000000   \n",
       "2                                   0.0  0.000000   \n",
       "3                                   0.0  0.000000   \n",
       "4                                   1.0  0.000000   \n",
       "\n",
       "Book-Title  the beginnings of rome: italy and rome from the bronze age to the punic wars (c. 1000-264 bc) (routledge history of the ancient world)  \\\n",
       "0                                                    0.266501                                                                                        \n",
       "1                                                    0.000000                                                                                        \n",
       "2                                                    0.190693                                                                                        \n",
       "3                                                    0.000000                                                                                        \n",
       "4                                                    0.000000                                                                                        \n",
       "\n",
       "Book-Title  der seltene vogel.  \\\n",
       "0                          0.0   \n",
       "1                          0.0   \n",
       "2                          0.0   \n",
       "3                          0.0   \n",
       "4                          0.0   \n",
       "\n",
       "Book-Title  books on the move: a read-about-it, go-there guide to america's best family destinations  \\\n",
       "0                                                    0.243332                                          \n",
       "1                                                    0.000000                                          \n",
       "2                                                    0.072548                                          \n",
       "3                                                    0.000000                                          \n",
       "4                                                    0.000000                                          \n",
       "\n",
       "Book-Title  ...  the xenophobe's guide to the chinese (xenophobe's guide)  \\\n",
       "0           ...                                           0.257248          \n",
       "1           ...                                           0.000000          \n",
       "2           ...                                           0.153393          \n",
       "3           ...                                           0.000000          \n",
       "4           ...                                           0.000000          \n",
       "\n",
       "Book-Title  grover learns to read  \\\n",
       "0                        0.117851   \n",
       "1                        0.000000   \n",
       "2                        0.000000   \n",
       "3                        0.000000   \n",
       "4                        0.000000   \n",
       "\n",
       "Book-Title  bibliotherapy: the girl's guide to books for every phase of our lives  \\\n",
       "0                                                    0.171499                       \n",
       "1                                                    0.000000                       \n",
       "2                                                    0.076696                       \n",
       "3                                                    0.134535                       \n",
       "4                                                    0.080845                       \n",
       "\n",
       "Book-Title  the count of monte cristo (modern library classics)  \\\n",
       "0                                                    0.091287     \n",
       "1                                                    0.000000     \n",
       "2                                                    0.081650     \n",
       "3                                                    0.000000     \n",
       "4                                                    0.000000     \n",
       "\n",
       "Book-Title  das kollegenschwein.  unbridled  \\\n",
       "0                            0.0        0.0   \n",
       "1                            0.0        0.0   \n",
       "2                            0.0        0.0   \n",
       "3                            0.0        0.0   \n",
       "4                            0.0        0.0   \n",
       "\n",
       "Book-Title  fearful majesty: the life and reign of ivan the terrible  \\\n",
       "0                                                    0.265165          \n",
       "1                                                    0.000000          \n",
       "2                                                    0.158114          \n",
       "3                                                    0.000000          \n",
       "4                                                    0.000000          \n",
       "\n",
       "Book-Title  querschã?â¼sse - downsize this!  \\\n",
       "0                                       0.0   \n",
       "1                                       0.0   \n",
       "2                                       0.0   \n",
       "3                                       0.0   \n",
       "4                                       0.0   \n",
       "\n",
       "Book-Title  bigger secrets: more than 125 things they prayed you'd never find out  \\\n",
       "0                                                         0.0                       \n",
       "1                                                         0.0                       \n",
       "2                                                         0.0                       \n",
       "3                                                         0.0                       \n",
       "4                                                         0.0                       \n",
       "\n",
       "Book-Title  die letzten kinder von schewenborn (fiction, poetry and drama)  \n",
       "0                                                    0.091287               \n",
       "1                                                    0.000000               \n",
       "2                                                    0.000000               \n",
       "3                                                    0.000000               \n",
       "4                                                    0.000000               \n",
       "\n",
       "[5 rows x 20001 columns]"
      ]
     },
     "execution_count": 20,
     "metadata": {},
     "output_type": "execute_result"
    }
   ],
   "source": [
    "similar_df = pd.DataFrame(similarities)\n",
    "similar_df.columns = data3['Book-Title']\n",
    "similar_df.index = data3['Book-Title']\n",
    "similar_df.reset_index(inplace=True)\n",
    "similar_df.head(5)"
   ]
  },
  {
   "cell_type": "code",
   "execution_count": 38,
   "id": "e19e921d",
   "metadata": {},
   "outputs": [],
   "source": [
    "input_book = 'yoga for wimps: poses for the flexibly impaired'"
   ]
  },
  {
   "cell_type": "code",
   "execution_count": 39,
   "id": "8e7ec58b",
   "metadata": {},
   "outputs": [
    {
     "data": {
      "text/html": [
       "<div>\n",
       "<style scoped>\n",
       "    .dataframe tbody tr th:only-of-type {\n",
       "        vertical-align: middle;\n",
       "    }\n",
       "\n",
       "    .dataframe tbody tr th {\n",
       "        vertical-align: top;\n",
       "    }\n",
       "\n",
       "    .dataframe thead th {\n",
       "        text-align: right;\n",
       "    }\n",
       "</style>\n",
       "<table border=\"1\" class=\"dataframe\">\n",
       "  <thead>\n",
       "    <tr style=\"text-align: right;\">\n",
       "      <th></th>\n",
       "      <th>Book-Title</th>\n",
       "    </tr>\n",
       "  </thead>\n",
       "  <tbody>\n",
       "    <tr>\n",
       "      <th>1</th>\n",
       "      <td>internet for windows 98 for dummies</td>\n",
       "    </tr>\n",
       "    <tr>\n",
       "      <th>2</th>\n",
       "      <td>compassion for all creatures: an inspirational...</td>\n",
       "    </tr>\n",
       "    <tr>\n",
       "      <th>3</th>\n",
       "      <td>access 97 programming for windows for dummies</td>\n",
       "    </tr>\n",
       "    <tr>\n",
       "      <th>4</th>\n",
       "      <td>managing for dummiesâ®</td>\n",
       "    </tr>\n",
       "    <tr>\n",
       "      <th>5</th>\n",
       "      <td>the quest for character</td>\n",
       "    </tr>\n",
       "  </tbody>\n",
       "</table>\n",
       "</div>"
      ],
      "text/plain": [
       "                                          Book-Title\n",
       "1                internet for windows 98 for dummies\n",
       "2  compassion for all creatures: an inspirational...\n",
       "3      access 97 programming for windows for dummies\n",
       "4                             managing for dummiesâ®\n",
       "5                            the quest for character"
      ]
     },
     "execution_count": 39,
     "metadata": {},
     "output_type": "execute_result"
    }
   ],
   "source": [
    "book_recommendation = pd.DataFrame(similar_df.nlargest(6,input_book)['Book-Title']).reset_index(drop=True)\n",
    "book_recommendation = book_recommendation[book_recommendation['Book-Title']!=input_book]\n",
    "book_recommendation"
   ]
  },
  {
   "cell_type": "code",
   "execution_count": null,
   "id": "eac9d27e",
   "metadata": {},
   "outputs": [],
   "source": []
  },
  {
   "cell_type": "code",
   "execution_count": null,
   "id": "6253788a",
   "metadata": {},
   "outputs": [],
   "source": []
  }
 ],
 "metadata": {
  "kernelspec": {
   "display_name": "Python 3",
   "language": "python",
   "name": "python3"
  },
  "language_info": {
   "codemirror_mode": {
    "name": "ipython",
    "version": 3
   },
   "file_extension": ".py",
   "mimetype": "text/x-python",
   "name": "python",
   "nbconvert_exporter": "python",
   "pygments_lexer": "ipython3",
   "version": "3.7.6"
  }
 },
 "nbformat": 4,
 "nbformat_minor": 5
}
